{
  "nbformat": 4,
  "nbformat_minor": 0,
  "metadata": {
    "colab": {
      "name": "Neural Networks Work along.ipynb",
      "provenance": [],
      "authorship_tag": "ABX9TyPFq7se4l8KVY+QCU4aucjJ",
      "include_colab_link": true
    },
    "kernelspec": {
      "name": "python3",
      "display_name": "Python 3"
    }
  },
  "cells": [
    {
      "cell_type": "markdown",
      "metadata": {
        "id": "view-in-github",
        "colab_type": "text"
      },
      "source": [
        "<a href=\"https://colab.research.google.com/github/ckokobean/SFUHS-Computational-Modeling-and-Simulation/blob/master/Neural_Networks_Work_along.ipynb\" target=\"_parent\"><img src=\"https://colab.research.google.com/assets/colab-badge.svg\" alt=\"Open In Colab\"/></a>"
      ]
    },
    {
      "cell_type": "markdown",
      "metadata": {
        "id": "36j2B5G4Q9dv",
        "colab_type": "text"
      },
      "source": [
        "# Perceptrons \n",
        "\n",
        "perceptron=simplest neural network constisting of only one neuron\n",
        "\n",
        "![alt text](https://s3.amazonaws.com/stackabuse/media/intro-to-neural-networks-scikit-learn-2.png)\n",
        "\n",
        "one input layor and one neuron\n",
        "\n",
        "input layer acts as the dendrites and receives the inputs \n",
        "\n",
        "at the neuron, the weights are applied and results are added together to get a sum. this sum is passed through the final layer aka an activation function \n",
        "\n",
        "activation function (nucleus) processes the sum and yields an output "
      ]
    },
    {
      "cell_type": "markdown",
      "metadata": {
        "id": "t6BA7bqyRivl",
        "colab_type": "text"
      },
      "source": [
        "# Multilayer Perceptron\n",
        "\n",
        "an artifical neural network has an input layer, 1+ hidden layers, and an output layer \n",
        "\n",
        "![alt text](https://s3.amazonaws.com/stackabuse/media/intro-to-neural-networks-scikit-learn-3.png)\n",
        "\n",
        "neural network executes in 2 phases:\n",
        "\n",
        "* feed-forward \n",
        "* back propagation\n",
        "\n"
      ]
    },
    {
      "cell_type": "markdown",
      "metadata": {
        "id": "90_hiuZ0R4t3",
        "colab_type": "text"
      },
      "source": [
        "# Feed-forward \n",
        "\n",
        "1. values receives in the input layer are multipleid with the weights \n",
        "\n",
        "2. each neuron in the first hidden layer receives different values from the input layer depending upon the weights and biases. relu functions are applied to calculate new values for the neurons in the hidden layers, while a sigmoid function is used to the output layer neuron.\n",
        "\n",
        "3. continue for all hidden layers\n",
        "\n",
        "\n",
        "# Back propagation \n",
        "\n",
        "reconfiguring the weights of the model to refine the algorithm\n",
        "\n",
        "1. error is calculated by quantifying the differennce between the predicted output and desired output -- loss function\n",
        "\n",
        "> NOTE: neural networks are ***supervised learning*** algorithms that need the desired outputs for the a given set of inputs, which is what allows it to learn from the data!\n",
        "\n",
        "2. minimize the loss function. use optimization function to minimize the loss function.\n",
        "\n",
        "epoch-one cycle of feed-forward and back propagation\n",
        "\n"
      ]
    },
    {
      "cell_type": "code",
      "metadata": {
        "id": "bM2Y_UnuQYto",
        "colab_type": "code",
        "outputId": "5d21e5aa-0ff9-48cc-b11e-4b02b38c9253",
        "colab": {
          "base_uri": "https://localhost:8080/",
          "height": 204
        }
      },
      "source": [
        "import pandas as pd \n",
        "import numpy as np\n",
        "import matplotlib.pyplot as plt\n",
        "\n",
        "# location of dataset\n",
        "url = \"https://archive.ics.uci.edu/ml/machine-learning-databases/iris/iris.data\"\n",
        "\n",
        "# assign column names to the dataset \n",
        "names = ['sepal-length','sepal-width','petal-length','petal-width','Class']\n",
        "\n",
        "# read dataset to pandas dataframe \n",
        "irisdata=pd.read_csv(url,names=names)\n",
        "\n",
        "irisdata.head()\n"
      ],
      "execution_count": 0,
      "outputs": [
        {
          "output_type": "execute_result",
          "data": {
            "text/html": [
              "<div>\n",
              "<style scoped>\n",
              "    .dataframe tbody tr th:only-of-type {\n",
              "        vertical-align: middle;\n",
              "    }\n",
              "\n",
              "    .dataframe tbody tr th {\n",
              "        vertical-align: top;\n",
              "    }\n",
              "\n",
              "    .dataframe thead th {\n",
              "        text-align: right;\n",
              "    }\n",
              "</style>\n",
              "<table border=\"1\" class=\"dataframe\">\n",
              "  <thead>\n",
              "    <tr style=\"text-align: right;\">\n",
              "      <th></th>\n",
              "      <th>sepal-length</th>\n",
              "      <th>sepal-width</th>\n",
              "      <th>petal-length</th>\n",
              "      <th>petal-width</th>\n",
              "      <th>Class</th>\n",
              "    </tr>\n",
              "  </thead>\n",
              "  <tbody>\n",
              "    <tr>\n",
              "      <th>0</th>\n",
              "      <td>5.1</td>\n",
              "      <td>3.5</td>\n",
              "      <td>1.4</td>\n",
              "      <td>0.2</td>\n",
              "      <td>Iris-setosa</td>\n",
              "    </tr>\n",
              "    <tr>\n",
              "      <th>1</th>\n",
              "      <td>4.9</td>\n",
              "      <td>3.0</td>\n",
              "      <td>1.4</td>\n",
              "      <td>0.2</td>\n",
              "      <td>Iris-setosa</td>\n",
              "    </tr>\n",
              "    <tr>\n",
              "      <th>2</th>\n",
              "      <td>4.7</td>\n",
              "      <td>3.2</td>\n",
              "      <td>1.3</td>\n",
              "      <td>0.2</td>\n",
              "      <td>Iris-setosa</td>\n",
              "    </tr>\n",
              "    <tr>\n",
              "      <th>3</th>\n",
              "      <td>4.6</td>\n",
              "      <td>3.1</td>\n",
              "      <td>1.5</td>\n",
              "      <td>0.2</td>\n",
              "      <td>Iris-setosa</td>\n",
              "    </tr>\n",
              "    <tr>\n",
              "      <th>4</th>\n",
              "      <td>5.0</td>\n",
              "      <td>3.6</td>\n",
              "      <td>1.4</td>\n",
              "      <td>0.2</td>\n",
              "      <td>Iris-setosa</td>\n",
              "    </tr>\n",
              "  </tbody>\n",
              "</table>\n",
              "</div>"
            ],
            "text/plain": [
              "   sepal-length  sepal-width  petal-length  petal-width        Class\n",
              "0           5.1          3.5           1.4          0.2  Iris-setosa\n",
              "1           4.9          3.0           1.4          0.2  Iris-setosa\n",
              "2           4.7          3.2           1.3          0.2  Iris-setosa\n",
              "3           4.6          3.1           1.5          0.2  Iris-setosa\n",
              "4           5.0          3.6           1.4          0.2  Iris-setosa"
            ]
          },
          "metadata": {
            "tags": []
          },
          "execution_count": 1
        }
      ]
    },
    {
      "cell_type": "markdown",
      "metadata": {
        "id": "O5SLldchSk52",
        "colab_type": "text"
      },
      "source": [
        "task = predict the class that is iris belongs to using the sepal and petal lengths and widths\n",
        "\n",
        "next step: split our dataset into attributes and labels "
      ]
    },
    {
      "cell_type": "code",
      "metadata": {
        "id": "4df4cfJ8Sgnl",
        "colab_type": "code",
        "colab": {}
      },
      "source": [
        "X = irisdata.iloc[:,0:4] # take first four columns\n",
        "\n",
        "y = irisdata.select_dtypes(include=[object])"
      ],
      "execution_count": 0,
      "outputs": []
    },
    {
      "cell_type": "code",
      "metadata": {
        "id": "DK1uiqC6S0xB",
        "colab_type": "code",
        "outputId": "19cfffde-e0b1-4c16-c401-0d2663111e4b",
        "colab": {
          "base_uri": "https://localhost:8080/",
          "height": 204
        }
      },
      "source": [
        "y.head()"
      ],
      "execution_count": 0,
      "outputs": [
        {
          "output_type": "execute_result",
          "data": {
            "text/html": [
              "<div>\n",
              "<style scoped>\n",
              "    .dataframe tbody tr th:only-of-type {\n",
              "        vertical-align: middle;\n",
              "    }\n",
              "\n",
              "    .dataframe tbody tr th {\n",
              "        vertical-align: top;\n",
              "    }\n",
              "\n",
              "    .dataframe thead th {\n",
              "        text-align: right;\n",
              "    }\n",
              "</style>\n",
              "<table border=\"1\" class=\"dataframe\">\n",
              "  <thead>\n",
              "    <tr style=\"text-align: right;\">\n",
              "      <th></th>\n",
              "      <th>Class</th>\n",
              "    </tr>\n",
              "  </thead>\n",
              "  <tbody>\n",
              "    <tr>\n",
              "      <th>0</th>\n",
              "      <td>Iris-setosa</td>\n",
              "    </tr>\n",
              "    <tr>\n",
              "      <th>1</th>\n",
              "      <td>Iris-setosa</td>\n",
              "    </tr>\n",
              "    <tr>\n",
              "      <th>2</th>\n",
              "      <td>Iris-setosa</td>\n",
              "    </tr>\n",
              "    <tr>\n",
              "      <th>3</th>\n",
              "      <td>Iris-setosa</td>\n",
              "    </tr>\n",
              "    <tr>\n",
              "      <th>4</th>\n",
              "      <td>Iris-setosa</td>\n",
              "    </tr>\n",
              "  </tbody>\n",
              "</table>\n",
              "</div>"
            ],
            "text/plain": [
              "         Class\n",
              "0  Iris-setosa\n",
              "1  Iris-setosa\n",
              "2  Iris-setosa\n",
              "3  Iris-setosa\n",
              "4  Iris-setosa"
            ]
          },
          "metadata": {
            "tags": []
          },
          "execution_count": 3
        }
      ]
    },
    {
      "cell_type": "markdown",
      "metadata": {
        "id": "DHimM8UGTXF4",
        "colab_type": "text"
      },
      "source": [
        "y values are categorical. however, nueral networks work better with numerical data. \n",
        "\n",
        "next step: convert these categorical values to numerical values via integer encoding or one-hot encoding \n",
        "\n",
        "here, since i only need to convert the outputs to numerical values, we can simply use integer encoding. However, if we needed to convert the ***input*** values to numerical values, would need to use one-hot encoding. \n"
      ]
    },
    {
      "cell_type": "code",
      "metadata": {
        "id": "Q_d_YrOwTL2E",
        "colab_type": "code",
        "outputId": "c00cb2c6-9f54-4243-f4ee-ad548b6e4a68",
        "colab": {
          "base_uri": "https://localhost:8080/",
          "height": 34
        }
      },
      "source": [
        "y.Class.unique()\n",
        "# we have 3 unique classes "
      ],
      "execution_count": 0,
      "outputs": [
        {
          "output_type": "execute_result",
          "data": {
            "text/plain": [
              "array(['Iris-setosa', 'Iris-versicolor', 'Iris-virginica'], dtype=object)"
            ]
          },
          "metadata": {
            "tags": []
          },
          "execution_count": 4
        }
      ]
    },
    {
      "cell_type": "code",
      "metadata": {
        "id": "qCklPEiCTfZD",
        "colab_type": "code",
        "colab": {}
      },
      "source": [
        "from sklearn import preprocessing\n",
        "\n",
        "le = preprocessing.LabelEncoder()\n",
        "\n",
        "y = y.apply(le.fit_transform)"
      ],
      "execution_count": 0,
      "outputs": []
    },
    {
      "cell_type": "code",
      "metadata": {
        "id": "S9vk5vvnTsqD",
        "colab_type": "code",
        "outputId": "8f32af12-fd3d-4843-ac7d-99e7900cf83c",
        "colab": {
          "base_uri": "https://localhost:8080/",
          "height": 34
        }
      },
      "source": [
        "y.Class.unique()"
      ],
      "execution_count": 0,
      "outputs": [
        {
          "output_type": "execute_result",
          "data": {
            "text/plain": [
              "array([0, 1, 2])"
            ]
          },
          "metadata": {
            "tags": []
          },
          "execution_count": 6
        }
      ]
    },
    {
      "cell_type": "markdown",
      "metadata": {
        "id": "j4OCqtOyUPs9",
        "colab_type": "text"
      },
      "source": [
        "# train test split"
      ]
    },
    {
      "cell_type": "code",
      "metadata": {
        "id": "qsl0tb3KTt4W",
        "colab_type": "code",
        "colab": {}
      },
      "source": [
        "from sklearn.model_selection import train_test_split\n",
        "X_train, X_test, y_train, y_test = train_test_split(X,y,test_size=.2)"
      ],
      "execution_count": 0,
      "outputs": []
    },
    {
      "cell_type": "markdown",
      "metadata": {
        "id": "hLTmwE-AUi0Z",
        "colab_type": "text"
      },
      "source": [
        "# Feature scaling\n",
        "\n",
        "so that all of them can be uniformly evaluated \n",
        "\n",
        "\n",
        "feature scaling is performed only on the training data, not on the test data. in the real world, data is not scaled so try to keep our test data as real as possible.\n"
      ]
    },
    {
      "cell_type": "code",
      "metadata": {
        "id": "0ZwBxbp2UbLs",
        "colab_type": "code",
        "colab": {}
      },
      "source": [
        "from sklearn.preprocessing import StandardScaler\n",
        "scaler=StandardScaler()\n",
        "scaler.fit(X_train)\n",
        "\n",
        "X_train=scaler.transform(X_train)\n",
        "X_test=scaler.transform(X_test)"
      ],
      "execution_count": 0,
      "outputs": []
    },
    {
      "cell_type": "markdown",
      "metadata": {
        "id": "u7rYuvjG34Nx",
        "colab_type": "text"
      },
      "source": [
        "# Training and Predictions \n",
        "\n",
        "next step: rain a neural network that can actually make predictions\n"
      ]
    },
    {
      "cell_type": "code",
      "metadata": {
        "id": "9CAlV6T6U0ig",
        "colab_type": "code",
        "outputId": "34247a9a-f082-4f8b-9676-b614795e7160",
        "colab": {
          "base_uri": "https://localhost:8080/",
          "height": 173
        }
      },
      "source": [
        "from sklearn.neural_network import MLPClassifier\n",
        "mlp=MLPClassifier(hidden_layer_sizes=(10,10,10),max_iter=1000) # creates neural network\n",
        "# hidden_layer_sizes creates 3 layers of 10 nodes each; just try different combos and see what is best\n",
        "#max_iter = number of iterations of epochs (cycles of feed-forward and back propagation)\n",
        "mlp.fit(X_train, y_train.values.ravel())"
      ],
      "execution_count": 0,
      "outputs": [
        {
          "output_type": "execute_result",
          "data": {
            "text/plain": [
              "MLPClassifier(activation='relu', alpha=0.0001, batch_size='auto', beta_1=0.9,\n",
              "              beta_2=0.999, early_stopping=False, epsilon=1e-08,\n",
              "              hidden_layer_sizes=(10, 10, 10), learning_rate='constant',\n",
              "              learning_rate_init=0.001, max_fun=15000, max_iter=1000,\n",
              "              momentum=0.9, n_iter_no_change=10, nesterovs_momentum=True,\n",
              "              power_t=0.5, random_state=None, shuffle=True, solver='adam',\n",
              "              tol=0.0001, validation_fraction=0.1, verbose=False,\n",
              "              warm_start=False)"
            ]
          },
          "metadata": {
            "tags": []
          },
          "execution_count": 9
        }
      ]
    },
    {
      "cell_type": "code",
      "metadata": {
        "id": "Ubvi8zkf4PB6",
        "colab_type": "code",
        "colab": {}
      },
      "source": [
        "# make predictions to our test data\n",
        "predictions=mlp.predict(X_test)"
      ],
      "execution_count": 0,
      "outputs": []
    },
    {
      "cell_type": "markdown",
      "metadata": {
        "id": "rnZMVPtt6pAA",
        "colab_type": "text"
      },
      "source": [
        "# Evaluating the algorithm\n",
        "\n",
        "using confusion matrix and classification report \n"
      ]
    },
    {
      "cell_type": "code",
      "metadata": {
        "id": "fexf7yIX47LZ",
        "colab_type": "code",
        "outputId": "e77314d6-8ab9-4842-fa61-31ce8d35a2c1",
        "colab": {
          "base_uri": "https://localhost:8080/",
          "height": 68
        }
      },
      "source": [
        "from sklearn.metrics import classification_report, confusion_matrix\n",
        "print(confusion_matrix(y_test,predictions))"
      ],
      "execution_count": 0,
      "outputs": [
        {
          "output_type": "stream",
          "text": [
            "[[ 6  0  0]\n",
            " [ 0 12  1]\n",
            " [ 0  2  9]]\n"
          ],
          "name": "stdout"
        }
      ]
    },
    {
      "cell_type": "code",
      "metadata": {
        "id": "m1fB8c317RSz",
        "colab_type": "code",
        "outputId": "f73be441-7efa-478c-a190-f601e4fd0557",
        "colab": {
          "base_uri": "https://localhost:8080/",
          "height": 187
        }
      },
      "source": [
        "print(classification_report(y_test,predictions))"
      ],
      "execution_count": 0,
      "outputs": [
        {
          "output_type": "stream",
          "text": [
            "              precision    recall  f1-score   support\n",
            "\n",
            "           0       1.00      1.00      1.00         6\n",
            "           1       0.86      0.92      0.89        13\n",
            "           2       0.90      0.82      0.86        11\n",
            "\n",
            "    accuracy                           0.90        30\n",
            "   macro avg       0.92      0.91      0.92        30\n",
            "weighted avg       0.90      0.90      0.90        30\n",
            "\n"
          ],
          "name": "stdout"
        }
      ]
    },
    {
      "cell_type": "markdown",
      "metadata": {
        "id": "KS14gmup8hL0",
        "colab_type": "text"
      },
      "source": [
        "# Conclusion\n",
        "\n",
        "we can see from the f1 score of 0.97  that the neural network predicts with 97% accuracy.\n"
      ]
    },
    {
      "cell_type": "code",
      "metadata": {
        "id": "WpLlp5oF8qXj",
        "colab_type": "code",
        "colab": {}
      },
      "source": [
        ""
      ],
      "execution_count": 0,
      "outputs": []
    }
  ]
}