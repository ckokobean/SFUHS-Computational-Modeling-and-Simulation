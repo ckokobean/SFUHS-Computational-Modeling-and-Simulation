{
  "nbformat": 4,
  "nbformat_minor": 0,
  "metadata": {
    "colab": {
      "name": "One-hot encoding work along.ipynb",
      "provenance": [],
      "authorship_tag": "ABX9TyPvCmftTV/80/TDkgzSElQn",
      "include_colab_link": true
    },
    "kernelspec": {
      "name": "python3",
      "display_name": "Python 3"
    }
  },
  "cells": [
    {
      "cell_type": "markdown",
      "metadata": {
        "id": "view-in-github",
        "colab_type": "text"
      },
      "source": [
        "<a href=\"https://colab.research.google.com/github/ckokobean/SFUHS-Computational-Modeling-and-Simulation/blob/master/One_hot_encoding_work_along.ipynb\" target=\"_parent\"><img src=\"https://colab.research.google.com/assets/colab-badge.svg\" alt=\"Open In Colab\"/></a>"
      ]
    },
    {
      "cell_type": "markdown",
      "metadata": {
        "id": "Enyj65JPIijL",
        "colab_type": "text"
      },
      "source": [
        "# Manual one hot encoding"
      ]
    },
    {
      "cell_type": "code",
      "metadata": {
        "id": "sKo2Q1F4wX97",
        "colab_type": "code",
        "outputId": "0e10f212-8dd2-4440-edd2-7c4ac0853e59",
        "colab": {
          "base_uri": "https://localhost:8080/",
          "height": 52
        }
      },
      "source": [
        "from numpy import argmax\n",
        "# define input string\n",
        "data='hello world'\n",
        "print(data)\n",
        "# define universe of possible input values\n",
        "alphabet = 'abcdefghijklmnopqrstuvwxyz ' # need to put a space after the alphabet\n",
        "# define a mapping of chars to integers\n",
        "char_to_int=dict((c,i) for i, c in enumerate(alphabet))\n",
        "int_to_char=dict((i,c) for i, c in enumerate(alphabet))\n",
        "# integer encode input data\n",
        "integer_encoded = [char_to_int[char] for char in data]\n",
        "print(integer_encoded)"
      ],
      "execution_count": 0,
      "outputs": [
        {
          "output_type": "stream",
          "text": [
            "hello world\n",
            "[7, 4, 11, 11, 14, 26, 22, 14, 17, 11, 3]\n"
          ],
          "name": "stdout"
        }
      ]
    },
    {
      "cell_type": "code",
      "metadata": {
        "id": "FczSeDZtw2ny",
        "colab_type": "code",
        "outputId": "524dad39-c903-4364-9224-cf6f375bf4a8",
        "colab": {
          "base_uri": "https://localhost:8080/",
          "height": 54
        }
      },
      "source": [
        "# one hot encoding\n",
        "onehot_encoded=list()\n",
        "for value in integer_encoded:\n",
        "  # create an array of 26 zeros\n",
        "  letter = [0 for _ in range(len(alphabet))]\n",
        "  letter[value]=1 # for the index number corresponding to the letter , change that 0 --> 1 \n",
        "  onehot_encoded.append(letter) # add that vector that matches a letter to the onehot_encoding list\n",
        "print(onehot_encoded)\n",
        "\n",
        "# onehot_encoded is an array in which each entry corresponds to a letter in the data"
      ],
      "execution_count": 0,
      "outputs": [
        {
          "output_type": "stream",
          "text": [
            "[[0, 0, 0, 0, 0, 0, 0, 1, 0, 0, 0, 0, 0, 0, 0, 0, 0, 0, 0, 0, 0, 0, 0, 0, 0, 0, 0], [0, 0, 0, 0, 1, 0, 0, 0, 0, 0, 0, 0, 0, 0, 0, 0, 0, 0, 0, 0, 0, 0, 0, 0, 0, 0, 0], [0, 0, 0, 0, 0, 0, 0, 0, 0, 0, 0, 1, 0, 0, 0, 0, 0, 0, 0, 0, 0, 0, 0, 0, 0, 0, 0], [0, 0, 0, 0, 0, 0, 0, 0, 0, 0, 0, 1, 0, 0, 0, 0, 0, 0, 0, 0, 0, 0, 0, 0, 0, 0, 0], [0, 0, 0, 0, 0, 0, 0, 0, 0, 0, 0, 0, 0, 0, 1, 0, 0, 0, 0, 0, 0, 0, 0, 0, 0, 0, 0], [0, 0, 0, 0, 0, 0, 0, 0, 0, 0, 0, 0, 0, 0, 0, 0, 0, 0, 0, 0, 0, 0, 0, 0, 0, 0, 1], [0, 0, 0, 0, 0, 0, 0, 0, 0, 0, 0, 0, 0, 0, 0, 0, 0, 0, 0, 0, 0, 0, 1, 0, 0, 0, 0], [0, 0, 0, 0, 0, 0, 0, 0, 0, 0, 0, 0, 0, 0, 1, 0, 0, 0, 0, 0, 0, 0, 0, 0, 0, 0, 0], [0, 0, 0, 0, 0, 0, 0, 0, 0, 0, 0, 0, 0, 0, 0, 0, 0, 1, 0, 0, 0, 0, 0, 0, 0, 0, 0], [0, 0, 0, 0, 0, 0, 0, 0, 0, 0, 0, 1, 0, 0, 0, 0, 0, 0, 0, 0, 0, 0, 0, 0, 0, 0, 0], [0, 0, 0, 1, 0, 0, 0, 0, 0, 0, 0, 0, 0, 0, 0, 0, 0, 0, 0, 0, 0, 0, 0, 0, 0, 0, 0]]\n"
          ],
          "name": "stdout"
        }
      ]
    },
    {
      "cell_type": "code",
      "metadata": {
        "id": "tTf0nfntxOOj",
        "colab_type": "code",
        "outputId": "a73bbae7-859b-4ab8-bcec-5bb2196f92b3",
        "colab": {
          "base_uri": "https://localhost:8080/",
          "height": 52
        }
      },
      "source": [
        "# invert encoding\n",
        "inverted = int_to_char[argmax(onehot_encoded[0])]\n",
        "print(inverted)\n",
        "\n",
        "# took the 1st entry in onehot_encoded array and turned it from a vector --> letter\n",
        "# what does argmax do? \n",
        "\n",
        "print(argmax(onehot_encoded[0])) # argmax returns the index of the max value! "
      ],
      "execution_count": 0,
      "outputs": [
        {
          "output_type": "stream",
          "text": [
            "h\n",
            "7\n"
          ],
          "name": "stdout"
        }
      ]
    },
    {
      "cell_type": "markdown",
      "metadata": {
        "id": "VoaeKcIt-DPU",
        "colab_type": "text"
      },
      "source": [
        "# Using scikit learn library"
      ]
    },
    {
      "cell_type": "code",
      "metadata": {
        "id": "XRu0WkSyyvue",
        "colab_type": "code",
        "outputId": "ff905429-9bc7-4259-9f7d-efed3ccc7210",
        "colab": {
          "base_uri": "https://localhost:8080/",
          "height": 52
        }
      },
      "source": [
        "from numpy import array\n",
        "from numpy import argmax\n",
        "from sklearn.preprocessing import LabelEncoder\n",
        "from sklearn.preprocessing import OneHotEncoder\n",
        "# define example\n",
        "data=['cold','cold','warm', 'cold','hot', 'hot', 'warm', 'cold', 'warm', 'hot']\n",
        "values = array(data)\n",
        "print(values)\n",
        "\n",
        "# integer encode\n",
        "label_encoder = LabelEncoder()\n",
        "integer_encoded = label_encoder.fit_transform(values)\n",
        "print(integer_encoded)"
      ],
      "execution_count": 0,
      "outputs": [
        {
          "output_type": "stream",
          "text": [
            "['cold' 'cold' 'warm' 'cold' 'hot' 'hot' 'warm' 'cold' 'warm' 'hot']\n",
            "[0 0 2 0 1 1 2 0 2 1]\n"
          ],
          "name": "stdout"
        }
      ]
    },
    {
      "cell_type": "code",
      "metadata": {
        "id": "sAPgaQn7-dTg",
        "colab_type": "code",
        "outputId": "79ea8c21-2b9f-4000-a1ac-9a1b16a68261",
        "colab": {
          "base_uri": "https://localhost:8080/",
          "height": 194
        }
      },
      "source": [
        "# binary, one hot encoding \n",
        "onehot_encoder = OneHotEncoder(sparse=False) # what is the sparse thing \n",
        "integer_encoded=integer_encoded.reshape(len(integer_encoded),1) # make 2D array\n",
        "onehot_encoded = onehot_encoder.fit_transform(integer_encoded)\n",
        "print(onehot_encoded)"
      ],
      "execution_count": 0,
      "outputs": [
        {
          "output_type": "stream",
          "text": [
            "[[1. 0. 0.]\n",
            " [1. 0. 0.]\n",
            " [0. 0. 1.]\n",
            " [1. 0. 0.]\n",
            " [0. 1. 0.]\n",
            " [0. 1. 0.]\n",
            " [0. 0. 1.]\n",
            " [1. 0. 0.]\n",
            " [0. 0. 1.]\n",
            " [0. 1. 0.]]\n"
          ],
          "name": "stdout"
        }
      ]
    },
    {
      "cell_type": "code",
      "metadata": {
        "id": "0GMR8dMR_pbu",
        "colab_type": "code",
        "outputId": "a1aa40e8-8d4a-41b8-ca50-20f371299164",
        "colab": {
          "base_uri": "https://localhost:8080/",
          "height": 34
        }
      },
      "source": [
        "# invert first example \n",
        "inverted = label_encoder.inverse_transform([argmax(onehot_encoded[0,:])]) # how to print all??\n",
        "print(inverted)"
      ],
      "execution_count": 0,
      "outputs": [
        {
          "output_type": "stream",
          "text": [
            "['cold']\n"
          ],
          "name": "stdout"
        }
      ]
    },
    {
      "cell_type": "markdown",
      "metadata": {
        "id": "ZMS3_EiBH00S",
        "colab_type": "text"
      },
      "source": [
        "# One Hot Encode with Keras\n",
        "\n",
        "to_categorical() can be used to one hot encode integer data"
      ]
    },
    {
      "cell_type": "code",
      "metadata": {
        "id": "FSlwZYs4_1ni",
        "colab_type": "code",
        "outputId": "0fa16aea-b62d-499f-8594-65b2b85e16da",
        "colab": {
          "base_uri": "https://localhost:8080/",
          "height": 34
        }
      },
      "source": [
        "from numpy import array\n",
        "from numpy import argmax\n",
        "from keras.utils import to_categorical\n",
        "# define example \n",
        "data = [1,3,2,0,3,2,2,1,0,1]\n",
        "data = array(data)\n",
        "print(data)"
      ],
      "execution_count": 0,
      "outputs": [
        {
          "output_type": "stream",
          "text": [
            "[1 3 2 0 3 2 2 1 0 1]\n"
          ],
          "name": "stdout"
        }
      ]
    },
    {
      "cell_type": "code",
      "metadata": {
        "id": "jFb9uixsIIXP",
        "colab_type": "code",
        "outputId": "b87a66b8-82c0-4fff-b7ec-2b01b7263acc",
        "colab": {
          "base_uri": "https://localhost:8080/",
          "height": 194
        }
      },
      "source": [
        "# one hot encode \n",
        "encoded = to_categorical(data)\n",
        "print(encoded)"
      ],
      "execution_count": 0,
      "outputs": [
        {
          "output_type": "stream",
          "text": [
            "[[0. 1. 0. 0.]\n",
            " [0. 0. 0. 1.]\n",
            " [0. 0. 1. 0.]\n",
            " [1. 0. 0. 0.]\n",
            " [0. 0. 0. 1.]\n",
            " [0. 0. 1. 0.]\n",
            " [0. 0. 1. 0.]\n",
            " [0. 1. 0. 0.]\n",
            " [1. 0. 0. 0.]\n",
            " [0. 1. 0. 0.]]\n"
          ],
          "name": "stdout"
        }
      ]
    },
    {
      "cell_type": "code",
      "metadata": {
        "id": "ou_sn2k5ILYa",
        "colab_type": "code",
        "outputId": "2cc6c875-9fbb-403f-ac58-ef99dcd587c1",
        "colab": {
          "base_uri": "https://localhost:8080/",
          "height": 34
        }
      },
      "source": [
        "# invert encoding \n",
        "inverted = argmax(encoded[0])\n",
        "print(inverted)"
      ],
      "execution_count": 0,
      "outputs": [
        {
          "output_type": "stream",
          "text": [
            "1\n"
          ],
          "name": "stdout"
        }
      ]
    }
  ]
}